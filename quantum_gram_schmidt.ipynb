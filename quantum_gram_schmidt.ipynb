{
 "cells": [
  {
   "cell_type": "markdown",
   "metadata": {},
   "source": [
    "# Quantum Gram-Schmidt Process"
   ]
  },
  {
   "cell_type": "markdown",
   "metadata": {},
   "source": [
    "# Lesson Plan Draft\n",
    "## Linear Algebra Review\n",
    "- What is complete basis?\n",
    "- What is row basis?\n",
    "- What is complete row basis?\n",
    "- Recall: Relation between linear independence and complete basis\n",
    "\n",
    "## Gram-Schmidt Process\n",
    "- What is the Gram-Schmidt process?\n",
    "- Application of Gram-Schmidt process to quantum states (in ML and other areas)\n",
    "\n",
    "### Easy example: State discrimination\n",
    "- State discrimination problem\n",
    "- Application in query complexity\n",
    "- Problem when applying Gram-Schimidt process to quantum states (exponential blowup)\n",
    "\n",
    "## What is the quantum Gram-Schmidt process?\n",
    "- High-level overview of the quantum Gram-Schmidt process\n",
    "- The math\n",
    "    - exercises (?)\n",
    "- The circuit\n",
    "    - exercises (?)\n",
    "- Solved example: Quantum Gram-Schmidt process\n",
    "\n",
    "### Application 1: Back to State discrimination\n",
    "\n",
    "### Application 2: Quantum Gram-Schmidt process for quantum states"
   ]
  },
  {
   "cell_type": "markdown",
   "metadata": {},
   "source": [
    "# What is Quantum Gram-Schmidt Process?\n",
    "- Quantum Gram-Schmidt algorithm is closely related to Classical Gram-Schmidt process but does something entirely different. QGS is used to generate a **complete row basis** by performing a quantum version of *adapting sampling* on the rows.\n",
    "    - rows which have a larger orthogonal part to the previously sampled row submatrix, will be sampled with a larger probability.\n",
    "    - This ensures that the complete basis is non-singular."
   ]
  },
  {
   "cell_type": "code",
   "execution_count": null,
   "metadata": {
    "vscode": {
     "languageId": "plaintext"
    }
   },
   "outputs": [],
   "source": []
  }
 ],
 "metadata": {
  "language_info": {
   "name": "python"
  }
 },
 "nbformat": 4,
 "nbformat_minor": 2
}
