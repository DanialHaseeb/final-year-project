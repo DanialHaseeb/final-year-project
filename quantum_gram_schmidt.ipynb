{
 "cells": [
  {
   "cell_type": "markdown",
   "metadata": {},
   "source": [
    "# Quantum Gram-Schmidt Process"
   ]
  },
  {
   "cell_type": "markdown",
   "metadata": {},
   "source": [
    "The input is a set of vectors, just like in the classical Gram-Schmidt process.\n",
    "\n",
    "1. We will encode this set as a matrix where each row represents a vector.\n",
    "2. \n",
    "\n",
    "### Implementing the QGSP in Qiskit\n",
    "\n",
    "In this section, we'll walk through the implementation of the Quantum Gram-Schmidt Process (QGSP) using Qiskit. We'll build and run the quantum circuits needed for each step of the algorithm."
   ]
  },
  {
   "cell_type": "markdown",
   "metadata": {},
   "source": [
    "\n",
    "#### Notes:\n",
    "- **Simplifications**: This implementation is simplified for educational purposes. The actual QGSP involves more complex operations and encoding methods, as outlined in the paper.\n",
    "- **Custom Gates**: For a more accurate implementation, custom gates representing the QRAM oracles would need to be designed.\n",
    "- **Error Handling**: The actual implementation would also involve error estimation and handling, which are not covered in this basic tutorial.\n",
    "\n",
    "This section provides a foundational understanding of how to implement the Quantum Gram-Schmidt Process using Qiskit. Advanced users can extend this to more complex matrices and quantum states, considering the full depth of the algorithm as presented in the original paper."
   ]
  },
  {
   "cell_type": "markdown",
   "metadata": {},
   "source": [
    "#### Step 1: Importing Necessary Libraries"
   ]
  },
  {
   "cell_type": "code",
   "execution_count": 7,
   "metadata": {},
   "outputs": [],
   "source": [
    "from qiskit import QuantumCircuit, execute, Aer\n",
    "from qiskit.quantum_info import Statevector\n",
    "import numpy as np\n"
   ]
  },
  {
   "cell_type": "markdown",
   "metadata": {},
   "source": [
    "#### Step 2: Initializing the Quantum Circuit\n",
    "\n",
    "We start by setting up a quantum circuit. For simplicity, let's consider a small matrix to encode in our quantum states. The number of qubits required will depend on the size of this matrix."
   ]
  },
  {
   "cell_type": "code",
   "execution_count": 8,
   "metadata": {},
   "outputs": [],
   "source": [
    "# Example matrix A\n",
    "A = np.array([[1, 0], [0, 1]])  # Replace with the matrix you want to use\n",
    "\n",
    "# The number of qubits should match the number of columns in the matrix\n",
    "num_qubits = A.shape[1]\n",
    "qc = QuantumCircuit(num_qubits)\n"
   ]
  },
  {
   "cell_type": "markdown",
   "metadata": {},
   "source": [
    "#### Step 3: Encoding the Matrix into Quantum States\n",
    "\n",
    "We'll use QRAM oracles to encode the matrix \\( A \\) into the amplitude of quantum states. This requires creating custom gates in Qiskit, which encode each row of \\( A \\)."
   ]
  },
  {
   "cell_type": "code",
   "execution_count": 9,
   "metadata": {},
   "outputs": [],
   "source": [
    "# Define the encoding function\n",
    "def encode_matrix_row(qc, row, qubits):\n",
    "    for i, elem in enumerate(row):\n",
    "        if elem != 0:\n",
    "            qc.x(qubits[i])  # Apply X gate if the element is non-zero\n",
    "\n",
    "# Encoding each row of A\n",
    "for i, row in enumerate(A):\n",
    "    encode_matrix_row(qc, row, range(num_qubits))\n",
    "    qc.barrier()\n"
   ]
  },
  {
   "cell_type": "markdown",
   "metadata": {},
   "source": [
    "#### Step 4: Quantum Circuit for Sampling\n",
    "\n",
    "We construct a quantum circuit to sample indices based on the algorithm. This involves applying Hadamard gates and controlled reflection gates."
   ]
  },
  {
   "cell_type": "code",
   "execution_count": 10,
   "metadata": {},
   "outputs": [],
   "source": [
    "def apply_controlled_reflection(qc, control_qubit, target_qubits):\n",
    "    # Simplified version of the controlled reflection gate\n",
    "    qc.h(target_qubits)\n",
    "    qc.cx(control_qubit, target_qubits)\n",
    "    qc.h(target_qubits)\n",
    "\n",
    "# Applying the sampling process\n",
    "for qubit in range(num_qubits):\n",
    "    qc.h(qubit)\n",
    "    apply_controlled_reflection(qc, qubit, [i for i in range(num_qubits) if i != qubit])\n",
    "    qc.h(qubit)\n",
    "    qc.barrier()\n"
   ]
  },
  {
   "cell_type": "markdown",
   "metadata": {},
   "source": [
    "#### Step 5: Measuring and Post-selection\n",
    "\n",
    "After the unitary operations, we measure the qubits and post-select the states where our measurement results are '0'."
   ]
  },
  {
   "cell_type": "code",
   "execution_count": 11,
   "metadata": {},
   "outputs": [
    {
     "ename": "MissingOptionalLibraryError",
     "evalue": "\"The 'qiskit-aer' library is required to use 'Aer provider'. You can install it with 'pip install qiskit-aer'.\"",
     "output_type": "error",
     "traceback": [
      "\u001b[0;31m---------------------------------------------------------------------------\u001b[0m",
      "\u001b[0;31mImportError\u001b[0m                               Traceback (most recent call last)",
      "File \u001b[0;32m/opt/homebrew/lib/python3.11/site-packages/qiskit/__init__.py:123\u001b[0m, in \u001b[0;36mAerWrapper.__getattr__\u001b[0;34m(self, attr)\u001b[0m\n\u001b[1;32m    122\u001b[0m \u001b[39mtry\u001b[39;00m:\n\u001b[0;32m--> 123\u001b[0m     \u001b[39mfrom\u001b[39;00m \u001b[39mqiskit\u001b[39;00m\u001b[39m.\u001b[39;00m\u001b[39mproviders\u001b[39;00m \u001b[39mimport\u001b[39;00m aer\n\u001b[1;32m    125\u001b[0m     \u001b[39mself\u001b[39m\u001b[39m.\u001b[39maer \u001b[39m=\u001b[39m aer\u001b[39m.\u001b[39mAer\n",
      "\u001b[0;31mImportError\u001b[0m: cannot import name 'aer' from 'qiskit.providers' (/opt/homebrew/lib/python3.11/site-packages/qiskit/providers/__init__.py)",
      "\nThe above exception was the direct cause of the following exception:\n",
      "\u001b[0;31mMissingOptionalLibraryError\u001b[0m               Traceback (most recent call last)",
      "\u001b[1;32m/Users/danial/Documents/IBA/Semester 7/Project/final-year-project/quantum_gram_schmidt.ipynb Cell 13\u001b[0m line \u001b[0;36m5\n\u001b[1;32m      <a href='vscode-notebook-cell:/Users/danial/Documents/IBA/Semester%207/Project/final-year-project/quantum_gram_schmidt.ipynb#X15sZmlsZQ%3D%3D?line=1'>2</a>\u001b[0m qc\u001b[39m.\u001b[39mmeasure_all()\n\u001b[1;32m      <a href='vscode-notebook-cell:/Users/danial/Documents/IBA/Semester%207/Project/final-year-project/quantum_gram_schmidt.ipynb#X15sZmlsZQ%3D%3D?line=3'>4</a>\u001b[0m \u001b[39m# Execute the circuit\u001b[39;00m\n\u001b[0;32m----> <a href='vscode-notebook-cell:/Users/danial/Documents/IBA/Semester%207/Project/final-year-project/quantum_gram_schmidt.ipynb#X15sZmlsZQ%3D%3D?line=4'>5</a>\u001b[0m backend \u001b[39m=\u001b[39m Aer\u001b[39m.\u001b[39;49mget_backend(\u001b[39m'\u001b[39m\u001b[39mqasm_simulator\u001b[39m\u001b[39m'\u001b[39m)\n\u001b[1;32m      <a href='vscode-notebook-cell:/Users/danial/Documents/IBA/Semester%207/Project/final-year-project/quantum_gram_schmidt.ipynb#X15sZmlsZQ%3D%3D?line=5'>6</a>\u001b[0m result \u001b[39m=\u001b[39m execute(qc, backend, shots\u001b[39m=\u001b[39m\u001b[39m1024\u001b[39m)\u001b[39m.\u001b[39mresult()\n\u001b[1;32m      <a href='vscode-notebook-cell:/Users/danial/Documents/IBA/Semester%207/Project/final-year-project/quantum_gram_schmidt.ipynb#X15sZmlsZQ%3D%3D?line=6'>7</a>\u001b[0m counts \u001b[39m=\u001b[39m result\u001b[39m.\u001b[39mget_counts(qc)\n",
      "File \u001b[0;32m/opt/homebrew/lib/python3.11/site-packages/qiskit/__init__.py:134\u001b[0m, in \u001b[0;36mAerWrapper.__getattr__\u001b[0;34m(self, attr)\u001b[0m\n\u001b[1;32m    126\u001b[0m         warnings\u001b[39m.\u001b[39mwarn(\n\u001b[1;32m    127\u001b[0m             \u001b[39m\"\u001b[39m\u001b[39mThe qiskit.Aer entry point will be deprecated in a future release and \u001b[39m\u001b[39m\"\u001b[39m\n\u001b[1;32m    128\u001b[0m             \u001b[39m\"\u001b[39m\u001b[39msubsequently removed. Instead you should use this \u001b[39m\u001b[39m\"\u001b[39m\n\u001b[0;32m   (...)\u001b[0m\n\u001b[1;32m    131\u001b[0m             stacklevel\u001b[39m=\u001b[39m\u001b[39m2\u001b[39m,\n\u001b[1;32m    132\u001b[0m         )\n\u001b[1;32m    133\u001b[0m     \u001b[39mexcept\u001b[39;00m \u001b[39mImportError\u001b[39;00m \u001b[39mas\u001b[39;00m ex:\n\u001b[0;32m--> 134\u001b[0m         \u001b[39mraise\u001b[39;00m MissingOptionalLibraryError(\n\u001b[1;32m    135\u001b[0m             \u001b[39m\"\u001b[39m\u001b[39mqiskit-aer\u001b[39m\u001b[39m\"\u001b[39m, \u001b[39m\"\u001b[39m\u001b[39mAer provider\u001b[39m\u001b[39m\"\u001b[39m, \u001b[39m\"\u001b[39m\u001b[39mpip install qiskit-aer\u001b[39m\u001b[39m\"\u001b[39m\n\u001b[1;32m    136\u001b[0m         ) \u001b[39mfrom\u001b[39;00m \u001b[39mex\u001b[39;00m\n\u001b[1;32m    137\u001b[0m \u001b[39mreturn\u001b[39;00m \u001b[39mgetattr\u001b[39m(\u001b[39mself\u001b[39m\u001b[39m.\u001b[39maer, attr)\n",
      "\u001b[0;31mMissingOptionalLibraryError\u001b[0m: \"The 'qiskit-aer' library is required to use 'Aer provider'. You can install it with 'pip install qiskit-aer'.\""
     ]
    }
   ],
   "source": [
    "# Measure all qubits\n",
    "qc.measure_all()\n",
    "\n",
    "# Execute the circuit\n",
    "backend = Aer.get_backend('qasm_simulator')\n",
    "result = execute(qc, backend, shots=1024).result()\n",
    "counts = result.get_counts(qc)\n",
    "\n",
    "# Post-selection\n",
    "post_selected_counts = {state: counts for state, counts in counts.items() if state.endswith('0'*num_qubits)}\n"
   ]
  },
  {
   "cell_type": "markdown",
   "metadata": {},
   "source": [
    "#### Step 6: Visualizing the Results\n",
    "\n",
    "Finally, we visualize the results to analyze the sampled states."
   ]
  },
  {
   "cell_type": "code",
   "execution_count": null,
   "metadata": {},
   "outputs": [],
   "source": [
    "from qiskit.visualization import plot_histogram\n",
    "\n",
    "plot_histogram(post_selected_counts)\n"
   ]
  }
 ],
 "metadata": {
  "kernelspec": {
   "display_name": "Python 3",
   "language": "python",
   "name": "python3"
  },
  "language_info": {
   "codemirror_mode": {
    "name": "ipython",
    "version": 3
   },
   "file_extension": ".py",
   "mimetype": "text/x-python",
   "name": "python",
   "nbconvert_exporter": "python",
   "pygments_lexer": "ipython3",
   "version": "3.11.3"
  }
 },
 "nbformat": 4,
 "nbformat_minor": 2
}
