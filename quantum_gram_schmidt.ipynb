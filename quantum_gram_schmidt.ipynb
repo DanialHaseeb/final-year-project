{
 "cells": [
  {
   "cell_type": "markdown",
   "metadata": {},
   "source": [
    "# Quantum Gram-Schmidt Process"
   ]
  },
  {
   "cell_type": "code",
   "execution_count": null,
   "metadata": {},
   "outputs": [],
   "source": []
  },
  {
   "cell_type": "markdown",
   "metadata": {},
   "source": [
    "Quantum Gram-Schmidt algorithm is used to generate a complete row basis by performing a quantum version of *adapting sampling* (TODO:#subtopic?)\n",
    "- The advantage of the adapting sampling is as follows:\n",
    "    - rows which have larger orthogonal part to the previously sampled row submatrix, will be sampled with a larger probability.\n",
    "    - This ensures that the complete basis is non-singular."
   ]
  }
 ],
 "metadata": {
  "language_info": {
   "name": "python"
  }
 },
 "nbformat": 4,
 "nbformat_minor": 2
}
