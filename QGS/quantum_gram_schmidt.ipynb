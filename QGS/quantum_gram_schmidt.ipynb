{
 "cells": [
  {
   "cell_type": "markdown",
   "metadata": {},
   "source": [
    "# Quantum Gram-Schmidt Process"
   ]
  },
  {
   "cell_type": "markdown",
   "metadata": {},
   "source": []
  },
  {
   "cell_type": "markdown",
   "metadata": {},
   "source": [
    "# What is Quantum Gram-Schmidt Process?\n",
    "- Quantum Gram-Schmidt algorithm is closely related to Classical Gram-Schmidt process but does something entirely different. QGS is used to generate a **complete row basis** by performing a quantum version of *adapting sampling* on the rows.\n",
    "    - rows which have a larger orthogonal part to the previously sampled row submatrix, will be sampled with a larger probability.\n",
    "    - This ensures that the complete basis is non-singular."
   ]
  },
  {
   "cell_type": "code",
   "execution_count": null,
   "metadata": {
    "vscode": {
     "languageId": "plaintext"
    }
   },
   "outputs": [],
   "source": []
  }
 ],
 "metadata": {
  "language_info": {
   "name": "python"
  }
 },
 "nbformat": 4,
 "nbformat_minor": 2
}
