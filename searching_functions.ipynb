{
 "cells": [
  {
   "cell_type": "markdown",
   "metadata": {},
   "source": [
    "# Searching for new functional bases for quantum algorithms"
   ]
  },
  {
   "cell_type": "markdown",
   "metadata": {},
   "source": [
    "### Imports"
   ]
  },
  {
   "cell_type": "code",
   "execution_count": 21,
   "metadata": {},
   "outputs": [],
   "source": [
    "from lib import *\n",
    "from typing import Callable\n"
   ]
  },
  {
   "cell_type": "markdown",
   "metadata": {},
   "source": [
    "## Function Definitions"
   ]
  },
  {
   "cell_type": "code",
   "execution_count": 22,
   "metadata": {},
   "outputs": [],
   "source": [
    "def parity(secret: int) -> Callable[[int], int]:\n",
    "\t\"\"\"\n",
    "\tThis is the function that generates the functions used in Bernstein-Vazirani.\n",
    "\t\"\"\"\n",
    "\tdef f(x: int) -> int:\n",
    "\t\tresult = 0\n",
    "\t\ts = secret\n",
    "\t\twhile s > 0:\n",
    "\t\t\tif s & 1 == 1:\n",
    "\t\t\t\tresult ^= x & 1\n",
    "\t\t\ts >>= 1\n",
    "\t\t\tx >>= 1\n",
    "\t\treturn result\n",
    "\treturn f\n",
    "\n",
    "\n",
    "def product(secret: int) -> Callable[[int], int]:\n",
    "\t\"\"\"\n",
    "\tThis is our original attempt at a variation of Bernstein-Vazirani.\n",
    "\n",
    "\tHere, we replace XOR with AND.\n",
    "\t\"\"\"\n",
    "\tdef f(x: int) -> int:\n",
    "\t\tresult = 1\n",
    "\t\ts = secret\n",
    "\t\twhile s > 0:\n",
    "\t\t\tif s & 1 == 1:\n",
    "\t\t\t\tresult &= x & 1\n",
    "\t\t\ts >>= 1\n",
    "\t\t\tx >>= 1\n",
    "\t\treturn result\n",
    "\treturn f\n",
    "\n",
    "\n",
    "def sum(secret: int) -> Callable[[int], int]:\n",
    "\t\"\"\"\n",
    "\tUnexplored possibility suggested by @Ashnah.\n",
    "\n",
    "\tHere, we will replace XOR with OR.\n",
    "\t\"\"\"\n",
    "\tdef f(x: int) -> int:\n",
    "\t\tresult = 0\n",
    "\t\ts = secret\n",
    "\t\twhile s > 0:\n",
    "\t\t\tif s & 1 == 1:\n",
    "\t\t\t\tresult |= x & 1\n",
    "\t\t\ts >>= 1\n",
    "\t\t\tx >>= 1\n",
    "\t\treturn result\n",
    "\treturn f\n",
    "\n",
    "\n",
    "def svetlichny(string: int, secret: int, positions: list[int]) -> int:\n",
    "\tfrom functools import reduce\n",
    "\tfrom operator import mul, xor\n",
    "\tx = bits(string)\n",
    "\ts = bits(secret)\n",
    "\tproducts = [reduce(mul, subset, 1) for subset in subsets(x)]\n",
    "\tfiltered_products = [products[j] * s[i] for (i, j) in enumerate(positions)]\n",
    "\tresult = reduce(xor, filtered_products, 0)\n",
    "\treturn result\n"
   ]
  },
  {
   "cell_type": "markdown",
   "metadata": {},
   "source": [
    "## Generating truth tables"
   ]
  },
  {
   "cell_type": "markdown",
   "metadata": {},
   "source": [
    "### Constants"
   ]
  },
  {
   "cell_type": "markdown",
   "metadata": {},
   "source": [
    "The input to our function is an $m$-bit string.\n",
    "Therefore there are $M = 2^m$ possible inputs.\n",
    "\n",
    "Similarly, each function contains an $n$-bit secret string.\n",
    "There are $N = 2^n$ possible secret strings."
   ]
  },
  {
   "cell_type": "code",
   "execution_count": 23,
   "metadata": {},
   "outputs": [],
   "source": [
    "# Number of bits.\n",
    "n = 4\n",
    "\n",
    "# Number of possible inputs: 2^n\n",
    "N = (1 << n)\n",
    "\n",
    "# The function we are evaluating.\n",
    "f = svetlichny\n"
   ]
  },
  {
   "cell_type": "markdown",
   "metadata": {},
   "source": [
    "### Filling out the truth table\n",
    "\n",
    "Our truth table will be a matrix with $M$ rows and $N$ columns, representing each input and each secret string respectively."
   ]
  },
  {
   "cell_type": "code",
   "execution_count": 24,
   "metadata": {},
   "outputs": [],
   "source": [
    "def generate_matrix(positions: list[int]) -> Matrix:\n",
    "\tmatrix = Matrix.new(N, N)\n",
    "\tfor s in range(N):\n",
    "\t\tfor x in range(N):\n",
    "\t\t\tmatrix[x, s] = 1 if (f(x, s, positions) == 0) else -1\n",
    "\treturn matrix\n"
   ]
  },
  {
   "cell_type": "markdown",
   "metadata": {},
   "source": [
    "### Printing results"
   ]
  },
  {
   "cell_type": "code",
   "execution_count": 25,
   "metadata": {},
   "outputs": [
    {
     "name": "stdout",
     "output_type": "stream",
     "text": [
      "[[], [0], [1], [0, 1], [2], [0, 2], [1, 2], [0, 1, 2]]\n",
      "Positions: (0, 1, 2)\n",
      "Function: s₁0 ⊕ s₂𝑥₁ ⊕ s₃𝑥₂\n",
      "Orthogonal column indices: [4, 5, 6, 7]\n",
      "\n",
      "Positions: (0, 1, 4)\n",
      "Function: s₁0 ⊕ s₂𝑥₁ ⊕ s₃𝑥₃\n",
      "Orthogonal column indices: [4, 5, 6, 7]\n",
      "\n",
      "Positions: (0, 2, 4)\n",
      "Function: s₁0 ⊕ s₂𝑥₂ ⊕ s₃𝑥₃\n",
      "Orthogonal column indices: [4, 5, 6, 7]\n",
      "\n",
      "Positions: (1, 2, 3)\n",
      "Function: s₁𝑥₁ ⊕ s₂𝑥₂ ⊕ s₃𝑥₁𝑥₂\n",
      "Orthogonal column indices: [1, 3, 5, 7]\n",
      "\n",
      "Positions: (1, 2, 4)\n",
      "Function: s₁𝑥₁ ⊕ s₂𝑥₂ ⊕ s₃𝑥₃\n",
      "Orthogonal column indices: [0, 1, 2, 3, 4, 5, 6, 7]\n",
      "\n",
      "Positions: (1, 2, 5)\n",
      "Function: s₁𝑥₁ ⊕ s₂𝑥₂ ⊕ s₃𝑥₁𝑥₃\n",
      "Orthogonal column indices: [1, 3, 5, 7]\n",
      "\n",
      "Positions: (1, 2, 6)\n",
      "Function: s₁𝑥₁ ⊕ s₂𝑥₂ ⊕ s₃𝑥₂𝑥₃\n",
      "Orthogonal column indices: [1, 3, 5, 7]\n",
      "\n",
      "Positions: (1, 2, 7)\n",
      "Function: s₁𝑥₁ ⊕ s₂𝑥₂ ⊕ s₃𝑥₁𝑥₂𝑥₃\n",
      "Orthogonal column indices: [1, 3, 5, 7]\n",
      "\n",
      "Positions: (1, 3, 4)\n",
      "Function: s₁𝑥₁ ⊕ s₂𝑥₁𝑥₂ ⊕ s₃𝑥₃\n",
      "Orthogonal column indices: [2, 3, 6, 7]\n",
      "\n",
      "Positions: (1, 4, 5)\n",
      "Function: s₁𝑥₁ ⊕ s₂𝑥₃ ⊕ s₃𝑥₁𝑥₃\n",
      "Orthogonal column indices: [1, 3, 5, 7]\n",
      "\n",
      "Positions: (1, 4, 6)\n",
      "Function: s₁𝑥₁ ⊕ s₂𝑥₃ ⊕ s₃𝑥₂𝑥₃\n",
      "Orthogonal column indices: [1, 3, 5, 7]\n",
      "\n",
      "Positions: (1, 4, 7)\n",
      "Function: s₁𝑥₁ ⊕ s₂𝑥₃ ⊕ s₃𝑥₁𝑥₂𝑥₃\n",
      "Orthogonal column indices: [1, 3, 5, 7]\n",
      "\n",
      "Positions: (2, 3, 4)\n",
      "Function: s₁𝑥₂ ⊕ s₂𝑥₁𝑥₂ ⊕ s₃𝑥₃\n",
      "Orthogonal column indices: [2, 3, 6, 7]\n",
      "\n",
      "Positions: (2, 4, 5)\n",
      "Function: s₁𝑥₂ ⊕ s₂𝑥₃ ⊕ s₃𝑥₁𝑥₃\n",
      "Orthogonal column indices: [1, 3, 5, 7]\n",
      "\n",
      "Positions: (2, 4, 6)\n",
      "Function: s₁𝑥₂ ⊕ s₂𝑥₃ ⊕ s₃𝑥₂𝑥₃\n",
      "Orthogonal column indices: [1, 3, 5, 7]\n",
      "\n",
      "Positions: (2, 4, 7)\n",
      "Function: s₁𝑥₂ ⊕ s₂𝑥₃ ⊕ s₃𝑥₁𝑥₂𝑥₃\n",
      "Orthogonal column indices: [1, 3, 5, 7]\n",
      "\n"
     ]
    }
   ],
   "source": [
    "from itertools import combinations\n",
    "\n",
    "# Set of possible positions where the bits of the secret string will be applied.\n",
    "combos = list(combinations(range(N),  n))\n",
    "\n",
    "for combo in combos:\n",
    "\tpositions = list(combo)\n",
    "\tmatrix = generate_matrix(positions)\n",
    "\tmax_orthogonal_vectors = matrix.max_orthogonal_subset\n",
    "\tprint(\"Positions:\", combo)\n",
    "\tprint(\"Function:\", expression(positions))\n",
    "\tprint(\"Orthogonal column indices:\", max_orthogonal_vectors)\n",
    "\tprint()\n"
   ]
  }
 ],
 "metadata": {
  "kernelspec": {
   "display_name": "Python 3",
   "language": "python",
   "name": "python3"
  },
  "language_info": {
   "codemirror_mode": {
    "name": "ipython",
    "version": 3
   },
   "file_extension": ".py",
   "mimetype": "text/x-python",
   "name": "python",
   "nbconvert_exporter": "python",
   "pygments_lexer": "ipython3",
   "version": "3.9.12"
  }
 },
 "nbformat": 4,
 "nbformat_minor": 2
}
